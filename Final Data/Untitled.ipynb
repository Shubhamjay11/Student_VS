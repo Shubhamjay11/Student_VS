{
 "cells": [
  {
   "cell_type": "code",
   "execution_count": 21,
   "id": "db143dc6",
   "metadata": {},
   "outputs": [],
   "source": [
    "import pandas as pd "
   ]
  },
  {
   "cell_type": "code",
   "execution_count": 27,
   "id": "e04ad3f7",
   "metadata": {},
   "outputs": [],
   "source": [
    "df =pd.read_excel(r\"Rode Map.xlsx\")"
   ]
  },
  {
   "cell_type": "code",
   "execution_count": 30,
   "id": "91504057",
   "metadata": {},
   "outputs": [
    {
     "data": {
      "text/plain": [
       "Index(['Degree', 'Field', 'Subfield', 'Scholarship Name', 'Offered by',\n",
       "       'Govt./Private', 'For study in', 'Eligibility criteria', 'Duration',\n",
       "       'Award amount', 'Things covered by the award', 'Application process',\n",
       "       'Application deadline', 'Contact website'],\n",
       "      dtype='object')"
      ]
     },
     "execution_count": 30,
     "metadata": {},
     "output_type": "execute_result"
    }
   ],
   "source": [
    "dp.columns"
   ]
  },
  {
   "cell_type": "code",
   "execution_count": 23,
   "id": "47e95c85",
   "metadata": {},
   "outputs": [
    {
     "data": {
      "text/plain": [
       "array(['Statistics', 'Life Science', 'Science',\n",
       "       'Computer Science/Engineering', 'Mechanical Engineering',\n",
       "       'Chemistry', 'Engineering', 'Civil Engineering',\n",
       "       'Electrical Engineering', 'Aerospace Engineering', 'Arts',\n",
       "       'IT-ITeS', 'Power', 'Computer Application', 'Public Health',\n",
       "       'Defence Technology', ' Arts', 'Environmental Science',\n",
       "       'Astronomical Engineering ', 'Capital Goods and Manufacturing',\n",
       "       'Civil Engineering ', 'Plastics Engineering',\n",
       "       'Textile Engineering ', 'Physics', 'Journalist', 'Agriculture',\n",
       "       'Chemical and Petrochemicals', 'Nanosystem Engineer',\n",
       "       'Packaging Engineer', 'Education, Training, and Research',\n",
       "       'Science Communication', 'Business', 'Industrial design',\n",
       "       'Mathematics ', ' Mathematics ', 'Industrial Engineering',\n",
       "       'Healthcare', 'AR and VR ENGINEERING',\n",
       "       'Electrical\\xa0 Engineering '], dtype=object)"
      ]
     },
     "execution_count": 23,
     "metadata": {},
     "output_type": "execute_result"
    }
   ],
   "source": [
    "df.Field.unique()"
   ]
  },
  {
   "cell_type": "code",
   "execution_count": 31,
   "id": "942ef134",
   "metadata": {},
   "outputs": [],
   "source": [
    "dp =pd.read_excel(r\"C:\\Users\\spjay\\Desktop\\VigyanShaala\\GUI CLG\\Final Data\\Final NCS.xlsx\")"
   ]
  },
  {
   "cell_type": "code",
   "execution_count": 32,
   "id": "51124446",
   "metadata": {},
   "outputs": [
    {
     "data": {
      "text/html": [
       "<div>\n",
       "<style scoped>\n",
       "    .dataframe tbody tr th:only-of-type {\n",
       "        vertical-align: middle;\n",
       "    }\n",
       "\n",
       "    .dataframe tbody tr th {\n",
       "        vertical-align: top;\n",
       "    }\n",
       "\n",
       "    .dataframe thead th {\n",
       "        text-align: right;\n",
       "    }\n",
       "</style>\n",
       "<table border=\"1\" class=\"dataframe\">\n",
       "  <thead>\n",
       "    <tr style=\"text-align: right;\">\n",
       "      <th></th>\n",
       "      <th>Field</th>\n",
       "      <th>Job Titles</th>\n",
       "      <th>SubField</th>\n",
       "      <th>Job Description</th>\n",
       "      <th>Work Environment</th>\n",
       "      <th>Key Competancy</th>\n",
       "      <th>Available skill training schemes</th>\n",
       "      <th>Sample training &amp; courses</th>\n",
       "      <th>Career path progression \\n</th>\n",
       "      <th>Probable Employers</th>\n",
       "    </tr>\n",
       "  </thead>\n",
       "  <tbody>\n",
       "    <tr>\n",
       "      <th>0</th>\n",
       "      <td>Agriculture</td>\n",
       "      <td>Agricultural Engineering Technician</td>\n",
       "      <td>Agricultural Engineer</td>\n",
       "      <td>\\n\\t\\n\\n\\tThe tasks an Agricultural Engineerin...</td>\n",
       "      <td>\\n\\t\\n\\t\\t  It is not a desk job\\n\\t\\n\\t\\t  Su...</td>\n",
       "      <td>\\n\\t\\n\\t\\tKnowledge of laying out agricultural...</td>\n",
       "      <td>\\n\\t\\n\\t\\thttp://nscsindia.org/AboutUs.aspx\\n\\...</td>\n",
       "      <td>\\n\\t\\n\\t\\thttp://www.examrace.com/IES/IES-Syll...</td>\n",
       "      <td>\\n\\t\\n\\t\\t\\n\\t\\t\\tHead of Company/CEO\\n\\t\\t\\n\\...</td>\n",
       "      <td>\\n\\t\\n\\t\\tGovernment institutes for agricultur...</td>\n",
       "    </tr>\n",
       "    <tr>\n",
       "      <th>1</th>\n",
       "      <td>Agriculture</td>\n",
       "      <td>Agriculture Engineering Technician</td>\n",
       "      <td>Agricultural Engineer</td>\n",
       "      <td>\\n\\tThe tasks an Agriculture Engineering Techn...</td>\n",
       "      <td>\\n\\t\\n\\t\\t\\n\\t\\t\\t\\n\\t\\t\\t\\tIt is not a desk j...</td>\n",
       "      <td>\\n\\t\\n\\t\\tKnowledge of laying out agricultural...</td>\n",
       "      <td>\\n\\t\\n\\t\\thttp://nscsindia.org/AboutUs.aspx \\n...</td>\n",
       "      <td>\\n\\t\\n\\t\\thttp://www.examrace.com/IES/IES-Syll...</td>\n",
       "      <td>\\n\\t\\n\\t\\t\\n\\t\\t\\tHead of Company/CEO\\n\\t\\t\\n\\...</td>\n",
       "      <td>\\n\\t\\n\\t\\tGovernment institutes for agricultur...</td>\n",
       "    </tr>\n",
       "    <tr>\n",
       "      <th>2</th>\n",
       "      <td>Agriculture</td>\n",
       "      <td>Agricultural Engineer</td>\n",
       "      <td>Agricultural Engineer</td>\n",
       "      <td>\\n\\t\\n\\t\\tThe tasks an Agricultural Engineer i...</td>\n",
       "      <td>\\n\\t\\n\\t\\t\\n\\t\\t\\t\\n\\t\\t\\t\\tIt is not a desk j...</td>\n",
       "      <td>\\n\\t\\n\\t\\tKnowledge of engineering and mechani...</td>\n",
       "      <td>\\n\\t\\n\\t\\thttp://nscsindia.org/AboutUs.aspx\\n\\...</td>\n",
       "      <td>\\n\\t\\n\\t\\thttp://www.examrace.com/IES/IES-Syll...</td>\n",
       "      <td>\\n\\tHead of Company/CEO\\n\\n\\t       ↑\\n\\n\\tHea...</td>\n",
       "      <td>\\n\\t\\n\\t\\tFarms across India\\n\\t\\n\\t\\tGovernme...</td>\n",
       "    </tr>\n",
       "    <tr>\n",
       "      <th>3</th>\n",
       "      <td>Agriculture</td>\n",
       "      <td>Manager, Poultry Farm</td>\n",
       "      <td>Agricultural Engineer</td>\n",
       "      <td>\\n\\tThe tasks a Manager, Poultry Farm is expec...</td>\n",
       "      <td>\\n\\t\\n\\t\\tIt is a field job\\n\\n\\n\\t\\n\\t\\tWork ...</td>\n",
       "      <td>\\n\\t\\n\\t\\tKnowledge of record keeping\\n\\n\\n\\t\\...</td>\n",
       "      <td>\\n\\t\\n\\t\\thttp://nscsindia.org/AboutUs.aspx \\n...</td>\n",
       "      <td>\\n\\thttp://rajuvas.org/Attachments/UG_COURSE_F...</td>\n",
       "      <td>\\n\\tPoultry Farm Owner\\n\\n\\t             ↑\\n\\n...</td>\n",
       "      <td>\\n\\t\\n\\t\\tAnimal breeding consulting firms\\n\\n...</td>\n",
       "    </tr>\n",
       "    <tr>\n",
       "      <th>4</th>\n",
       "      <td>Agriculture</td>\n",
       "      <td>Manager, Plantation</td>\n",
       "      <td>Agricultural Engineer</td>\n",
       "      <td>\\n\\t\\n\\t\\t\\n\\t\\t\\tThe tasks a Manager, Plantat...</td>\n",
       "      <td>\\n\\t\\n\\t\\t\\n\\t\\t\\t\\n\\t\\t\\t\\tIt is a field job\\...</td>\n",
       "      <td>\\n\\t\\n\\t\\t\\n\\t\\t\\t\\n\\t\\t\\t\\tKnowledge of maint...</td>\n",
       "      <td>\\n\\t\\n\\t\\thttp://nscsindia.org/AboutUs.aspx\\n\\...</td>\n",
       "      <td>\\n\\thttp://www.igau.edu.in/pdf/SYLLABIBScAgDeg...</td>\n",
       "      <td>\\n\\tPlantation Owner\\n\\n\\t            ↑\\n\\n\\tG...</td>\n",
       "      <td>\\n\\t\\n\\t\\tPlantation owners\\n\\n\\n\\t\\n\\t\\tAgric...</td>\n",
       "    </tr>\n",
       "  </tbody>\n",
       "</table>\n",
       "</div>"
      ],
      "text/plain": [
       "         Field                           Job Titles               SubField  \\\n",
       "0  Agriculture  Agricultural Engineering Technician  Agricultural Engineer   \n",
       "1  Agriculture   Agriculture Engineering Technician  Agricultural Engineer   \n",
       "2  Agriculture                Agricultural Engineer  Agricultural Engineer   \n",
       "3  Agriculture                Manager, Poultry Farm  Agricultural Engineer   \n",
       "4  Agriculture                  Manager, Plantation  Agricultural Engineer   \n",
       "\n",
       "                                     Job Description  \\\n",
       "0  \\n\\t\\n\\n\\tThe tasks an Agricultural Engineerin...   \n",
       "1  \\n\\tThe tasks an Agriculture Engineering Techn...   \n",
       "2  \\n\\t\\n\\t\\tThe tasks an Agricultural Engineer i...   \n",
       "3  \\n\\tThe tasks a Manager, Poultry Farm is expec...   \n",
       "4  \\n\\t\\n\\t\\t\\n\\t\\t\\tThe tasks a Manager, Plantat...   \n",
       "\n",
       "                                    Work Environment  \\\n",
       "0  \\n\\t\\n\\t\\t  It is not a desk job\\n\\t\\n\\t\\t  Su...   \n",
       "1  \\n\\t\\n\\t\\t\\n\\t\\t\\t\\n\\t\\t\\t\\tIt is not a desk j...   \n",
       "2  \\n\\t\\n\\t\\t\\n\\t\\t\\t\\n\\t\\t\\t\\tIt is not a desk j...   \n",
       "3  \\n\\t\\n\\t\\tIt is a field job\\n\\n\\n\\t\\n\\t\\tWork ...   \n",
       "4  \\n\\t\\n\\t\\t\\n\\t\\t\\t\\n\\t\\t\\t\\tIt is a field job\\...   \n",
       "\n",
       "                                      Key Competancy  \\\n",
       "0  \\n\\t\\n\\t\\tKnowledge of laying out agricultural...   \n",
       "1  \\n\\t\\n\\t\\tKnowledge of laying out agricultural...   \n",
       "2  \\n\\t\\n\\t\\tKnowledge of engineering and mechani...   \n",
       "3  \\n\\t\\n\\t\\tKnowledge of record keeping\\n\\n\\n\\t\\...   \n",
       "4  \\n\\t\\n\\t\\t\\n\\t\\t\\t\\n\\t\\t\\t\\tKnowledge of maint...   \n",
       "\n",
       "                    Available skill training schemes  \\\n",
       "0  \\n\\t\\n\\t\\thttp://nscsindia.org/AboutUs.aspx\\n\\...   \n",
       "1  \\n\\t\\n\\t\\thttp://nscsindia.org/AboutUs.aspx \\n...   \n",
       "2  \\n\\t\\n\\t\\thttp://nscsindia.org/AboutUs.aspx\\n\\...   \n",
       "3  \\n\\t\\n\\t\\thttp://nscsindia.org/AboutUs.aspx \\n...   \n",
       "4  \\n\\t\\n\\t\\thttp://nscsindia.org/AboutUs.aspx\\n\\...   \n",
       "\n",
       "                           Sample training & courses  \\\n",
       "0  \\n\\t\\n\\t\\thttp://www.examrace.com/IES/IES-Syll...   \n",
       "1  \\n\\t\\n\\t\\thttp://www.examrace.com/IES/IES-Syll...   \n",
       "2  \\n\\t\\n\\t\\thttp://www.examrace.com/IES/IES-Syll...   \n",
       "3  \\n\\thttp://rajuvas.org/Attachments/UG_COURSE_F...   \n",
       "4  \\n\\thttp://www.igau.edu.in/pdf/SYLLABIBScAgDeg...   \n",
       "\n",
       "                          Career path progression \\n  \\\n",
       "0  \\n\\t\\n\\t\\t\\n\\t\\t\\tHead of Company/CEO\\n\\t\\t\\n\\...   \n",
       "1  \\n\\t\\n\\t\\t\\n\\t\\t\\tHead of Company/CEO\\n\\t\\t\\n\\...   \n",
       "2  \\n\\tHead of Company/CEO\\n\\n\\t       ↑\\n\\n\\tHea...   \n",
       "3  \\n\\tPoultry Farm Owner\\n\\n\\t             ↑\\n\\n...   \n",
       "4  \\n\\tPlantation Owner\\n\\n\\t            ↑\\n\\n\\tG...   \n",
       "\n",
       "                                  Probable Employers  \n",
       "0  \\n\\t\\n\\t\\tGovernment institutes for agricultur...  \n",
       "1  \\n\\t\\n\\t\\tGovernment institutes for agricultur...  \n",
       "2  \\n\\t\\n\\t\\tFarms across India\\n\\t\\n\\t\\tGovernme...  \n",
       "3  \\n\\t\\n\\t\\tAnimal breeding consulting firms\\n\\n...  \n",
       "4  \\n\\t\\n\\t\\tPlantation owners\\n\\n\\n\\t\\n\\t\\tAgric...  "
      ]
     },
     "execution_count": 32,
     "metadata": {},
     "output_type": "execute_result"
    }
   ],
   "source": [
    "dp.head()"
   ]
  },
  {
   "cell_type": "code",
   "execution_count": 34,
   "id": "b8b20adf",
   "metadata": {},
   "outputs": [
    {
     "data": {
      "text/plain": [
       "Index(['Field', 'Job Titles', 'SubField', 'Job Description',\n",
       "       'Work Environment', 'Key Competancy',\n",
       "       'Available skill training schemes', 'Sample training & courses',\n",
       "       'Career path progression \\n', 'Probable Employers'],\n",
       "      dtype='object')"
      ]
     },
     "execution_count": 34,
     "metadata": {},
     "output_type": "execute_result"
    }
   ],
   "source": [
    "dp.columns"
   ]
  },
  {
   "cell_type": "code",
   "execution_count": null,
   "id": "ce674b85",
   "metadata": {},
   "outputs": [],
   "source": []
  }
 ],
 "metadata": {
  "kernelspec": {
   "display_name": "Python 3 (ipykernel)",
   "language": "python",
   "name": "python3"
  },
  "language_info": {
   "codemirror_mode": {
    "name": "ipython",
    "version": 3
   },
   "file_extension": ".py",
   "mimetype": "text/x-python",
   "name": "python",
   "nbconvert_exporter": "python",
   "pygments_lexer": "ipython3",
   "version": "3.8.5"
  },
  "varInspector": {
   "cols": {
    "lenName": 16,
    "lenType": 16,
    "lenVar": 40
   },
   "kernels_config": {
    "python": {
     "delete_cmd_postfix": "",
     "delete_cmd_prefix": "del ",
     "library": "var_list.py",
     "varRefreshCmd": "print(var_dic_list())"
    },
    "r": {
     "delete_cmd_postfix": ") ",
     "delete_cmd_prefix": "rm(",
     "library": "var_list.r",
     "varRefreshCmd": "cat(var_dic_list()) "
    }
   },
   "types_to_exclude": [
    "module",
    "function",
    "builtin_function_or_method",
    "instance",
    "_Feature"
   ],
   "window_display": false
  }
 },
 "nbformat": 4,
 "nbformat_minor": 5
}
